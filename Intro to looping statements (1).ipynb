{
 "cells": [
  {
   "cell_type": "code",
   "execution_count": null,
   "id": "9e6dc799",
   "metadata": {},
   "outputs": [],
   "source": [
    "Introduction to looping statements\n"
   ]
  },
  {
   "cell_type": "code",
   "execution_count": 3,
   "id": "b8e87b85",
   "metadata": {},
   "outputs": [
    {
     "name": "stdout",
     "output_type": "stream",
     "text": [
      "['sunil', 'kamal', 'keerthi', 'naveen', 'meghana', 'suman']\n"
     ]
    }
   ],
   "source": [
    "students=['sunil','kamal','keerthi','naveen','meghana','suman',]\n",
    "print(students)"
   ]
  },
  {
   "cell_type": "code",
   "execution_count": 4,
   "id": "a7370456",
   "metadata": {},
   "outputs": [
    {
     "name": "stdout",
     "output_type": "stream",
     "text": [
      "keep up the good work,Sunil\n"
     ]
    }
   ],
   "source": [
    "### req: I want to appreciate all the students above..?\n",
    "print(f\"keep up the good work,{students[0].title()}\")"
   ]
  },
  {
   "cell_type": "code",
   "execution_count": 6,
   "id": "dc4ab5c3",
   "metadata": {},
   "outputs": [
    {
     "name": "stdout",
     "output_type": "stream",
     "text": [
      "keep up the good work, Keerthi\n"
     ]
    }
   ],
   "source": [
    "print(f\"keep up the good work, {students[2].title()}\")"
   ]
  },
  {
   "cell_type": "code",
   "execution_count": null,
   "id": "396012ba",
   "metadata": {},
   "outputs": [],
   "source": [
    "## Getting the understanding of the for loop ****"
   ]
  },
  {
   "cell_type": "code",
   "execution_count": null,
   "id": "802be55c",
   "metadata": {},
   "outputs": [],
   "source": [
    "## General syntax of the for loop:"
   ]
  },
  {
   "cell_type": "code",
   "execution_count": null,
   "id": "e682a61d",
   "metadata": {},
   "outputs": [],
   "source": [
    "for tempvar is mainvar:   ********************************************************\n",
    "    print (tempvar)"
   ]
  },
  {
   "cell_type": "code",
   "execution_count": null,
   "id": "79efbe25",
   "metadata": {},
   "outputs": [],
   "source": [
    "#let the tempvar be as \"X\""
   ]
  },
  {
   "cell_type": "code",
   "execution_count": 13,
   "id": "5e72e7f2",
   "metadata": {},
   "outputs": [
    {
     "name": "stdout",
     "output_type": "stream",
     "text": [
      "keep up the good work, Sunil\n",
      "keep up the good work, Kamal\n",
      "keep up the good work, Keerthi\n",
      "keep up the good work, Naveen\n",
      "keep up the good work, Meghana\n",
      "keep up the good work, Suman\n"
     ]
    }
   ],
   "source": [
    "for x in students:\n",
    "    print(f'keep up the good work, {x.title()}')"
   ]
  },
  {
   "cell_type": "code",
   "execution_count": 15,
   "id": "cf170757",
   "metadata": {},
   "outputs": [
    {
     "name": "stdout",
     "output_type": "stream",
     "text": [
      "Sunil\n",
      "Kamal\n",
      "Keerthi\n",
      "Naveen\n",
      "Meghana\n",
      "Suman\n"
     ]
    }
   ],
   "source": [
    "for a in students:\n",
    "    print(a.title())"
   ]
  },
  {
   "cell_type": "code",
   "execution_count": 16,
   "id": "eeb6476a",
   "metadata": {},
   "outputs": [
    {
     "name": "stdout",
     "output_type": "stream",
     "text": [
      "sunil\n",
      "kamal\n",
      "keerthi\n",
      "naveen\n",
      "meghana\n",
      "suman\n"
     ]
    }
   ],
   "source": [
    "for a in students:       ### for temvar is mainvar\n",
    "    \n",
    "---->    print(a)                 This gap is called indentation"
   ]
  },
  {
   "cell_type": "code",
   "execution_count": null,
   "id": "b6fec88d",
   "metadata": {},
   "outputs": [],
   "source": [
    "##req:  I also want to tell them that \"I will be looking for today github url in my inbox\""
   ]
  },
  {
   "cell_type": "code",
   "execution_count": 17,
   "id": "72e5c1f7",
   "metadata": {},
   "outputs": [
    {
     "name": "stdout",
     "output_type": "stream",
     "text": [
      "keep up good work,Sunil\n",
      "I will be looking forward to receive your github url to my inbox,Sunil\n",
      "keep up good work,Kamal\n",
      "I will be looking forward to receive your github url to my inbox,Kamal\n",
      "keep up good work,Keerthi\n",
      "I will be looking forward to receive your github url to my inbox,Keerthi\n",
      "keep up good work,Naveen\n",
      "I will be looking forward to receive your github url to my inbox,Naveen\n",
      "keep up good work,Meghana\n",
      "I will be looking forward to receive your github url to my inbox,Meghana\n",
      "keep up good work,Suman\n",
      "I will be looking forward to receive your github url to my inbox,Suman\n"
     ]
    }
   ],
   "source": [
    "for x in students:\n",
    "    print(f'keep up good work,{x.title()}')\n",
    "    print(f'I will be looking forward to receive your github url to my inbox,{x.title()}')"
   ]
  },
  {
   "cell_type": "code",
   "execution_count": null,
   "id": "0bb846dc",
   "metadata": {},
   "outputs": [],
   "source": [
    "### Enhancement of the code........."
   ]
  },
  {
   "cell_type": "code",
   "execution_count": 18,
   "id": "41811394",
   "metadata": {},
   "outputs": [
    {
     "name": "stdout",
     "output_type": "stream",
     "text": [
      "keep up the good work,Sunil\n",
      "I will be looking forward to receive your github url to my inbox,Sunil\n",
      "\n",
      "keep up the good work,Kamal\n",
      "I will be looking forward to receive your github url to my inbox,Kamal\n",
      "\n",
      "keep up the good work,Keerthi\n",
      "I will be looking forward to receive your github url to my inbox,Keerthi\n",
      "\n",
      "keep up the good work,Naveen\n",
      "I will be looking forward to receive your github url to my inbox,Naveen\n",
      "\n",
      "keep up the good work,Meghana\n",
      "I will be looking forward to receive your github url to my inbox,Meghana\n",
      "\n",
      "keep up the good work,Suman\n",
      "I will be looking forward to receive your github url to my inbox,Suman\n",
      "\n"
     ]
    }
   ],
   "source": [
    "for x in students:\n",
    "    print(f'keep up the good work,{x.title()}')\n",
    "    print(f'I will be looking forward to receive your github url to my inbox,{x.title()}\\n')"
   ]
  },
  {
   "cell_type": "code",
   "execution_count": 21,
   "id": "5bc25d95",
   "metadata": {},
   "outputs": [
    {
     "name": "stdout",
     "output_type": "stream",
     "text": [
      "keep up the good work,Sunil\n",
      "I will be looking forward to receive your github url to my inbox,Sunil\n",
      "\n",
      "keep up the good work,Kamal\n",
      "I will be looking forward to receive your github url to my inbox,Kamal\n",
      "\n",
      "keep up the good work,Keerthi\n",
      "I will be looking forward to receive your github url to my inbox,Keerthi\n",
      "\n",
      "keep up the good work,Naveen\n",
      "I will be looking forward to receive your github url to my inbox,Naveen\n",
      "\n",
      "keep up the good work,Meghana\n",
      "I will be looking forward to receive your github url to my inbox,Meghana\n",
      "\n",
      "keep up the good work,Suman\n",
      "I will be looking forward to receive your github url to my inbox,Suman\n",
      "\n",
      "thankyou all for joining in sessions\n"
     ]
    }
   ],
   "source": [
    "for x in students:\n",
    "    print(f'keep up the good work,{x.title()}')\n",
    "    print(f'I will be looking forward to receive your github url to my inbox,{x.title()}\\n')\n",
    "print(\"thankyou all for joining in sessions\")                                                ##   *******indentation "
   ]
  },
  {
   "cell_type": "code",
   "execution_count": 23,
   "id": "73b23336",
   "metadata": {},
   "outputs": [
    {
     "name": "stdout",
     "output_type": "stream",
     "text": [
      "keep up the good work,Sunil\n",
      "I will be looking forward to receive your github url to my inbox,Sunil\n",
      "\n",
      "thankyou all for joining in sessions\n",
      "keep up the good work,Kamal\n",
      "I will be looking forward to receive your github url to my inbox,Kamal\n",
      "\n",
      "thankyou all for joining in sessions\n",
      "keep up the good work,Keerthi\n",
      "I will be looking forward to receive your github url to my inbox,Keerthi\n",
      "\n",
      "thankyou all for joining in sessions\n",
      "keep up the good work,Naveen\n",
      "I will be looking forward to receive your github url to my inbox,Naveen\n",
      "\n",
      "thankyou all for joining in sessions\n",
      "keep up the good work,Meghana\n",
      "I will be looking forward to receive your github url to my inbox,Meghana\n",
      "\n",
      "thankyou all for joining in sessions\n",
      "keep up the good work,Suman\n",
      "I will be looking forward to receive your github url to my inbox,Suman\n",
      "\n",
      "thankyou all for joining in sessions\n"
     ]
    }
   ],
   "source": [
    "for x in students:\n",
    "    print(f'keep up the good work,{x.title()}')\n",
    "    print(f'I will be looking forward to receive your github url to my inbox,{x.title()}\\n')\n",
    "    print(\"thankyou all for joining in sessions\")               ##******************with indentation "
   ]
  },
  {
   "cell_type": "code",
   "execution_count": null,
   "id": "2d57909a",
   "metadata": {},
   "outputs": [],
   "source": []
  }
 ],
 "metadata": {
  "kernelspec": {
   "display_name": "Python 3 (ipykernel)",
   "language": "python",
   "name": "python3"
  },
  "language_info": {
   "codemirror_mode": {
    "name": "ipython",
    "version": 3
   },
   "file_extension": ".py",
   "mimetype": "text/x-python",
   "name": "python",
   "nbconvert_exporter": "python",
   "pygments_lexer": "ipython3",
   "version": "3.9.7"
  }
 },
 "nbformat": 4,
 "nbformat_minor": 5
}
